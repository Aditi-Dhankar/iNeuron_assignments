{
 "cells": [
  {
   "cell_type": "markdown",
   "id": "f8744a7b",
   "metadata": {},
   "source": [
    "Q1. What is the purpose of Python's OOP?"
   ]
  },
  {
   "cell_type": "markdown",
   "id": "81c1fb6b",
   "metadata": {},
   "source": [
    "Object-oriented Programming (OOPs) uses objects and classes as foundation. It is used for creating a code whihc can be reused easily to increase efficiency and it also supports inheritance."
   ]
  },
  {
   "cell_type": "markdown",
   "id": "bf8b729c",
   "metadata": {},
   "source": [
    "Q2. Where does an inheritance search look for an attribute?"
   ]
  },
  {
   "cell_type": "markdown",
   "id": "6bff5683",
   "metadata": {},
   "source": [
    "The inheritance starts looking from the instance for the attribute and goes upwards to class, leading to superclass.With the help of namespaces."
   ]
  },
  {
   "cell_type": "markdown",
   "id": "36c3c217",
   "metadata": {},
   "source": [
    "Q3. How do you distinguish between a class object and an instance object?"
   ]
  },
  {
   "cell_type": "markdown",
   "id": "8f348d0b",
   "metadata": {},
   "source": [
    "class objects affects the whole class whereas changes in instance object does not affect the other instances of the class.\n",
    "\n",
    "The instance is a copy of class objects which can be updated, but will not affect the initial memory of the object value."
   ]
  },
  {
   "cell_type": "markdown",
   "id": "df3e602e",
   "metadata": {},
   "source": [
    "Q4. What makes the first argument in a class’s method function special?"
   ]
  },
  {
   "cell_type": "markdown",
   "id": "d646a63e",
   "metadata": {},
   "source": [
    "The first parameter of class object is always the object itself. Which is a convention and 'self' is used for this purpose.'Self' is used to distinguish between instances. But it is not a keyword in python."
   ]
  },
  {
   "cell_type": "markdown",
   "id": "85176dc5",
   "metadata": {},
   "source": [
    "Q5. What is the purpose of the __init__ method?"
   ]
  },
  {
   "cell_type": "markdown",
   "id": "0893daed",
   "metadata": {},
   "source": [
    "It is used to initialize the new class instance values which allows you to accept arguments. This makes it easier to assign the values at instance level without creating alot of confusion."
   ]
  },
  {
   "cell_type": "markdown",
   "id": "041b6553",
   "metadata": {},
   "source": [
    "Q6. What is the process for creating a class instance?"
   ]
  },
  {
   "cell_type": "markdown",
   "id": "69762b2e",
   "metadata": {},
   "source": [
    "First we create a class and add __init__() method to pass the parameters in the class.\n",
    "then we create an instance which has values of parameters mentioned in the class\n",
    "\n",
    "Example:\n"
   ]
  },
  {
   "cell_type": "code",
   "execution_count": 18,
   "id": "0c3e2940",
   "metadata": {},
   "outputs": [
    {
     "name": "stdout",
     "output_type": "stream",
     "text": [
      "xyz\n"
     ]
    }
   ],
   "source": [
    "class car:\n",
    "    def __init__(self,data):\n",
    "        self.data = data\n",
    "        \n",
    "toyota = car(\"xyz\")\n",
    "print(toyota.data)"
   ]
  },
  {
   "cell_type": "markdown",
   "id": "b521586d",
   "metadata": {},
   "source": [
    "Q7. What is the process for creating a class?"
   ]
  },
  {
   "cell_type": "markdown",
   "id": "10502c17",
   "metadata": {},
   "source": [
    "The keyword 'class' can used for creation of a class under which the objects are defined whihc holds all the attributes.\n",
    "\n",
    "Example:\n",
    " "
   ]
  },
  {
   "cell_type": "code",
   "execution_count": 17,
   "id": "4a36106a",
   "metadata": {},
   "outputs": [],
   "source": [
    "class NewClass:\n",
    "    def __init__(self, values):\n",
    "        self.values = values "
   ]
  },
  {
   "cell_type": "markdown",
   "id": "6cccf175",
   "metadata": {},
   "source": [
    "Q8. How would you define the superclasses of a class?"
   ]
  },
  {
   "cell_type": "markdown",
   "id": "b4a54cba",
   "metadata": {},
   "source": [
    "The superclass is a class whihc further has many subclasses to it which is also known as parentclass.\n",
    "\n",
    "Example:\n",
    "    "
   ]
  },
  {
   "cell_type": "code",
   "execution_count": 16,
   "id": "bb432ab6",
   "metadata": {},
   "outputs": [
    {
     "name": "stdout",
     "output_type": "stream",
     "text": [
      "Types of Vehicles\n",
      "I'm a car!\n",
      "I'm a bike!\n"
     ]
    }
   ],
   "source": [
    "# superclass\n",
    "class Vehicle:\n",
    "    def desc(self):\n",
    "        print(\"Types of Vehicles\")\n",
    "\n",
    "#subclass\n",
    "class Car(Vehicle):\n",
    "    def desc(self):\n",
    "        print(\"I'm a car!\")\n",
    "    \n",
    "#subclass\n",
    "class Motorbike(Vehicle):\n",
    "    def desc(self):\n",
    "        print(\"I'm a bike!\")\n",
    "          \n",
    "v = Vehicle()\n",
    "c = Car()\n",
    "m = Motorbike()\n",
    "\n",
    "v.desc()\n",
    "c.desc()\n",
    "m.desc()          "
   ]
  }
 ],
 "metadata": {
  "kernelspec": {
   "display_name": "Python 3 (ipykernel)",
   "language": "python",
   "name": "python3"
  },
  "language_info": {
   "codemirror_mode": {
    "name": "ipython",
    "version": 3
   },
   "file_extension": ".py",
   "mimetype": "text/x-python",
   "name": "python",
   "nbconvert_exporter": "python",
   "pygments_lexer": "ipython3",
   "version": "3.9.7"
  }
 },
 "nbformat": 4,
 "nbformat_minor": 5
}

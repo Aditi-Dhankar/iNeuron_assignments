{
 "cells": [
  {
   "cell_type": "code",
   "execution_count": 1,
   "id": "b5156e01",
   "metadata": {},
   "outputs": [],
   "source": [
    "import mysql.connector"
   ]
  },
  {
   "cell_type": "code",
   "execution_count": 2,
   "id": "469f3964",
   "metadata": {},
   "outputs": [],
   "source": [
    "from tabulate import tabulate"
   ]
  },
  {
   "cell_type": "code",
   "execution_count": 3,
   "id": "4e03a0af",
   "metadata": {},
   "outputs": [],
   "source": [
    "conn = mysql.connector.connect(user='root',password='adi@1234',database='assignment')"
   ]
  },
  {
   "cell_type": "code",
   "execution_count": 4,
   "id": "97d5e0b8",
   "metadata": {},
   "outputs": [],
   "source": [
    "mycursor = conn.cursor()"
   ]
  },
  {
   "cell_type": "code",
   "execution_count": 5,
   "id": "fb1887eb",
   "metadata": {},
   "outputs": [
    {
     "name": "stdout",
     "output_type": "stream",
     "text": [
      "+-------------+-------------+--------------+----------+--------------------+---------+----------+---------------------+\n",
      "|   Worker_id | FirstName   | SecondName   | City     | Email              | Dept    |   Salary | JoiningDate         |\n",
      "|-------------+-------------+--------------+----------+--------------------+---------+----------+---------------------|\n",
      "|           1 | Akash       | Malik        | Delhi    | akash123@gmail.com | HR      |    45000 | 2021-02-20 09:00:00 |\n",
      "|           2 | Aka         | Ma           | Noida    | aka@gmail.com      | Admin   |    30000 | 2021-06-01 09:00:00 |\n",
      "|           3 | Jay         | Singh        | Delhi    | jay@gmail.com      | Admin   |    45000 | 2022-01-15 09:00:00 |\n",
      "|           4 | Ankita      | Jain         | Gurugram | anki@gmail.com     | Account |    40000 | 2022-02-20 09:00:00 |\n",
      "|           5 | Pooja       | Patil        | Delhi    | pooja@gmail.com    | IT      |    40000 | 2022-02-01 09:00:00 |\n",
      "|           6 | Anju        | Tomar        | Noida    | anju@gmail.com     | HR      |    45000 | 2022-04-10 09:00:00 |\n",
      "|           7 | Kaira       | Singh        | Delhi    | kaira@gmail.com    | Account |    30000 | 2022-02-20 09:00:00 |\n",
      "+-------------+-------------+--------------+----------+--------------------+---------+----------+---------------------+\n"
     ]
    }
   ],
   "source": [
    "mycursor.execute(\"select * from assignment.workers\")\n",
    "myresult = mycursor.fetchall()\n",
    "\n",
    "print(tabulate(myresult, headers=['Worker_id', 'FirstName', 'SecondName', 'City', 'Email', 'Dept', 'Salary', 'JoiningDate'], tablefmt='psql'))"
   ]
  },
  {
   "cell_type": "code",
   "execution_count": 6,
   "id": "72fa1f4f",
   "metadata": {},
   "outputs": [],
   "source": [
    "mycursor.execute(\"CREATE TABLE assignment.worker_dup AS SELECT * FROM assignment.workers\")"
   ]
  },
  {
   "cell_type": "code",
   "execution_count": 7,
   "id": "5133ba31",
   "metadata": {
    "scrolled": false
   },
   "outputs": [
    {
     "name": "stdout",
     "output_type": "stream",
     "text": [
      "+-------------+-------------+--------------+----------+--------------------+---------+----------+---------------------+\n",
      "|   Worker_id | FirstName   | SecondName   | City     | Email              | Dept    |   Salary | JoiningDate         |\n",
      "|-------------+-------------+--------------+----------+--------------------+---------+----------+---------------------|\n",
      "|           1 | Akash       | Malik        | Delhi    | akash123@gmail.com | HR      |    45000 | 2021-02-20 09:00:00 |\n",
      "|           2 | Aka         | Ma           | Noida    | aka@gmail.com      | Admin   |    30000 | 2021-06-01 09:00:00 |\n",
      "|           3 | Jay         | Singh        | Delhi    | jay@gmail.com      | Admin   |    45000 | 2022-01-15 09:00:00 |\n",
      "|           4 | Ankita      | Jain         | Gurugram | anki@gmail.com     | Account |    40000 | 2022-02-20 09:00:00 |\n",
      "|           5 | Pooja       | Patil        | Delhi    | pooja@gmail.com    | IT      |    40000 | 2022-02-01 09:00:00 |\n",
      "|           6 | Anju        | Tomar        | Noida    | anju@gmail.com     | HR      |    45000 | 2022-04-10 09:00:00 |\n",
      "|           7 | Kaira       | Singh        | Delhi    | kaira@gmail.com    | Account |    30000 | 2022-02-20 09:00:00 |\n",
      "+-------------+-------------+--------------+----------+--------------------+---------+----------+---------------------+\n"
     ]
    }
   ],
   "source": [
    "mycursor.execute(\"select * from worker_dup\")\n",
    "myresult = mycursor.fetchall()\n",
    "\n",
    "print(tabulate(myresult, headers=['Worker_id', 'FirstName', 'SecondName', 'City', 'Email', 'Dept', 'Salary', 'JoiningDate'], tablefmt='psql'))"
   ]
  },
  {
   "cell_type": "markdown",
   "id": "675bc550",
   "metadata": {},
   "source": [
    "Q-1. Write an SQL query to print the first three characters of  FIRST_NAME from Worker table."
   ]
  },
  {
   "cell_type": "code",
   "execution_count": 8,
   "id": "cd0c1bfc",
   "metadata": {},
   "outputs": [
    {
     "name": "stdout",
     "output_type": "stream",
     "text": [
      "+-------------+\n",
      "| FirstName   |\n",
      "|-------------|\n",
      "| Aka         |\n",
      "| Aka         |\n",
      "| Jay         |\n",
      "| Ank         |\n",
      "| Poo         |\n",
      "| Anj         |\n",
      "| Kai         |\n",
      "+-------------+\n"
     ]
    }
   ],
   "source": [
    "mycursor.execute(\"select substr(First_name,1,3) from worker_dup\")\n",
    "myresult = mycursor.fetchall()\n",
    "\n",
    "print(tabulate(myresult, headers=['FirstName'], tablefmt='psql'))"
   ]
  },
  {
   "cell_type": "code",
   "execution_count": 9,
   "id": "39cd848c",
   "metadata": {},
   "outputs": [],
   "source": [
    "q = \"\"\"insert into worker_dup (worker_id, First_name, Last_name, Address, Email, Department, Salary, Joining_date)\n",
    "values (8, \"Amitabh\", \"Singh\", \"Gurugram\", \"amit@gmail.com\", \"HR\", 50000, '22-02-01 09.00.00')\"\"\"\n",
    "\n",
    "mycursor.execute(q)"
   ]
  },
  {
   "cell_type": "markdown",
   "id": "abedef3d",
   "metadata": {},
   "source": [
    " Q-2. Write an SQL query to find the position of the alphabet (‘a’) in the first name column ‘Amitabh’ from Worker table."
   ]
  },
  {
   "cell_type": "code",
   "execution_count": 10,
   "id": "de0de744",
   "metadata": {},
   "outputs": [
    {
     "name": "stdout",
     "output_type": "stream",
     "text": [
      "+-------------+\n",
      "|   FirstName |\n",
      "|-------------|\n",
      "|           1 |\n",
      "+-------------+\n"
     ]
    }
   ],
   "source": [
    "q = \"\"\" select position('a' in First_name) from worker_dup where First_name=\"Amitabh\" \"\"\"\n",
    "mycursor.execute(q)\n",
    "myresult = mycursor.fetchall()\n",
    "\n",
    "print(tabulate(myresult, headers=['FirstName'], tablefmt='psql'))"
   ]
  },
  {
   "cell_type": "markdown",
   "id": "16486f12",
   "metadata": {},
   "source": [
    "Q-3. Write an SQL query to print the name of employees having the highest salary in each department."
   ]
  },
  {
   "cell_type": "code",
   "execution_count": 11,
   "id": "60398155",
   "metadata": {},
   "outputs": [
    {
     "name": "stdout",
     "output_type": "stream",
     "text": [
      "+-------------+--------------+----------+\n",
      "| FirstName   | Department   |   Salary |\n",
      "|-------------+--------------+----------|\n",
      "| Jay         | Admin        |    45000 |\n",
      "| Ankita      | Account      |    40000 |\n",
      "| Pooja       | IT           |    40000 |\n",
      "| Amitabh     | HR           |    50000 |\n",
      "+-------------+--------------+----------+\n"
     ]
    }
   ],
   "source": [
    "mycursor.execute(\"select First_name, Department, Salary from worker_dup where (Department, Salary) in (SELECT Department, MAX(Salary) from worker_dup group by Department);\")\n",
    "myresult = mycursor.fetchall()\n",
    "\n",
    "print(tabulate(myresult, headers=['FirstName', 'Department', 'Salary'], tablefmt='psql'))"
   ]
  },
  {
   "cell_type": "code",
   "execution_count": 12,
   "id": "426fd76b",
   "metadata": {},
   "outputs": [],
   "source": [
    "mycursor.execute(\"drop table assignment.worker_dup\")"
   ]
  },
  {
   "cell_type": "code",
   "execution_count": 13,
   "id": "cca3c531",
   "metadata": {},
   "outputs": [],
   "source": [
    "mycursor.close()\n",
    "conn.close()"
   ]
  }
 ],
 "metadata": {
  "kernelspec": {
   "display_name": "Python 3 (ipykernel)",
   "language": "python",
   "name": "python3"
  },
  "language_info": {
   "codemirror_mode": {
    "name": "ipython",
    "version": 3
   },
   "file_extension": ".py",
   "mimetype": "text/x-python",
   "name": "python",
   "nbconvert_exporter": "python",
   "pygments_lexer": "ipython3",
   "version": "3.9.7"
  }
 },
 "nbformat": 4,
 "nbformat_minor": 5
}

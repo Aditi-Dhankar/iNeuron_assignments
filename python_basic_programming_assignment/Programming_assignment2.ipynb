{
 "cells": [
  {
   "cell_type": "markdown",
   "id": "aa80a822",
   "metadata": {},
   "source": [
    "1.\tWrite a Python program to convert kilometers to miles?"
   ]
  },
  {
   "cell_type": "code",
   "execution_count": 1,
   "id": "198bfcb1",
   "metadata": {},
   "outputs": [
    {
     "name": "stdout",
     "output_type": "stream",
     "text": [
      "Enter Kilometers here: 5\n",
      "The value of km entered in miles is  3.11\n"
     ]
    }
   ],
   "source": [
    "km = float(input('Enter Kilometers here: '))\n",
    "c = 0.62137\n",
    "\n",
    "mi = round(km*c, 2)\n",
    "\n",
    "print('The value of km entered in miles is ', mi)"
   ]
  },
  {
   "cell_type": "markdown",
   "id": "748e4b46",
   "metadata": {},
   "source": [
    "2.\tWrite a Python program to convert Celsius to Fahrenheit?"
   ]
  },
  {
   "cell_type": "code",
   "execution_count": 2,
   "id": "098486fb",
   "metadata": {},
   "outputs": [
    {
     "name": "stdout",
     "output_type": "stream",
     "text": [
      "Enter temperature in celsius here: 39\n",
      "The temperature in fahrenheit is  102.2\n"
     ]
    }
   ],
   "source": [
    "c = float(input('Enter temperature in celsius here: '))\n",
    "\n",
    "f = round((c*1.8)+32, 2)\n",
    "\n",
    "print('The temperature in fahrenheit is ', f)\n"
   ]
  },
  {
   "cell_type": "markdown",
   "id": "d4acc370",
   "metadata": {},
   "source": [
    "3.\tWrite a Python program to display calendar?"
   ]
  },
  {
   "cell_type": "code",
   "execution_count": 4,
   "id": "4718e482",
   "metadata": {},
   "outputs": [
    {
     "name": "stdout",
     "output_type": "stream",
     "text": [
      "Enter year: 2022\n",
      "Enter month: 7\n",
      "     July 2022\n",
      "Mo Tu We Th Fr Sa Su\n",
      "             1  2  3\n",
      " 4  5  6  7  8  9 10\n",
      "11 12 13 14 15 16 17\n",
      "18 19 20 21 22 23 24\n",
      "25 26 27 28 29 30 31\n",
      "\n"
     ]
    }
   ],
   "source": [
    "import calendar\n",
    "\n",
    "yy = int(input(\"Enter year: \"))\n",
    "mm = int(input(\"Enter month: \"))\n",
    "\n",
    "print(calendar.month(yy,mm))"
   ]
  },
  {
   "cell_type": "markdown",
   "id": "37b504ba",
   "metadata": {},
   "source": [
    "4.\tWrite a Python program to solve quadratic equation?"
   ]
  },
  {
   "cell_type": "code",
   "execution_count": 5,
   "id": "30a70755",
   "metadata": {},
   "outputs": [
    {
     "name": "stdout",
     "output_type": "stream",
     "text": [
      "Enter a number here: -1\n",
      "Enter a number here: 4\n",
      "Enter a number here: 5\n",
      "The solution for the quadratic equation formed are:  (5-0j) (-1-0j)\n"
     ]
    }
   ],
   "source": [
    "import cmath\n",
    "\n",
    "\n",
    "# ax**2 + bx + c = 0\n",
    "a = int(input('Enter a number here: '))\n",
    "b = int(input('Enter a number here: '))\n",
    "c = int(input('Enter a number here: '))\n",
    "\n",
    "\n",
    "d = (b**2) - (4*a*c)\n",
    "\n",
    "\n",
    "s1 = (-b-cmath.sqrt(d))/(2*a)\n",
    "s2 = (-b+cmath.sqrt(d))/(2*a)\n",
    "\n",
    "print('The solution for the quadratic equation formed are: ',s1, s2)\n"
   ]
  },
  {
   "cell_type": "markdown",
   "id": "4ccb1a6c",
   "metadata": {},
   "source": [
    "5.\tWrite a Python program to swap two variables without temp variable?"
   ]
  },
  {
   "cell_type": "code",
   "execution_count": 6,
   "id": "98d09d2f",
   "metadata": {},
   "outputs": [
    {
     "name": "stdout",
     "output_type": "stream",
     "text": [
      "Enter a value: 3\n",
      "Enter a value: 1\n",
      "Before swapping: \n",
      "Value of x :  3  and y :  1\n",
      "After swapping: \n",
      "Value of x :  1  and y :  3\n"
     ]
    }
   ],
   "source": [
    "\n",
    "x = input('Enter a value: ')\n",
    "y = input('Enter a value: ')\n",
    "\n",
    "print (\"Before swapping: \")\n",
    "print(\"Value of x : \", x, \" and y : \", y)\n",
    "\n",
    "\n",
    "x, y = y, x\n",
    "\n",
    "print (\"After swapping: \")\n",
    "print(\"Value of x : \", x, \" and y : \", y)\n"
   ]
  }
 ],
 "metadata": {
  "kernelspec": {
   "display_name": "Python 3 (ipykernel)",
   "language": "python",
   "name": "python3"
  },
  "language_info": {
   "codemirror_mode": {
    "name": "ipython",
    "version": 3
   },
   "file_extension": ".py",
   "mimetype": "text/x-python",
   "name": "python",
   "nbconvert_exporter": "python",
   "pygments_lexer": "ipython3",
   "version": "3.9.7"
  }
 },
 "nbformat": 4,
 "nbformat_minor": 5
}

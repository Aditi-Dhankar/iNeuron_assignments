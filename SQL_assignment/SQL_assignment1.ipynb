{
 "cells": [
  {
   "cell_type": "code",
   "execution_count": 1,
   "id": "0ceae7cf",
   "metadata": {},
   "outputs": [
    {
     "name": "stdout",
     "output_type": "stream",
     "text": [
      "Requirement already satisfied: mysql-connector-python in d:\\data_science\\env\\lib\\site-packages (8.0.29)\n",
      "Requirement already satisfied: protobuf>=3.0.0 in d:\\data_science\\env\\lib\\site-packages (from mysql-connector-python) (4.21.1)\n"
     ]
    }
   ],
   "source": [
    "! pip install mysql-connector-python"
   ]
  },
  {
   "cell_type": "code",
   "execution_count": 2,
   "id": "02a41900",
   "metadata": {},
   "outputs": [
    {
     "name": "stdout",
     "output_type": "stream",
     "text": [
      "Requirement already satisfied: tabulate in d:\\data_science\\env\\lib\\site-packages (0.8.10)\n"
     ]
    }
   ],
   "source": [
    "! pip install tabulate"
   ]
  },
  {
   "cell_type": "code",
   "execution_count": 3,
   "id": "1ea99e3d",
   "metadata": {},
   "outputs": [],
   "source": [
    "import mysql.connector"
   ]
  },
  {
   "cell_type": "code",
   "execution_count": 4,
   "id": "ddfc5abd",
   "metadata": {},
   "outputs": [],
   "source": [
    "from tabulate import tabulate"
   ]
  },
  {
   "cell_type": "code",
   "execution_count": 5,
   "id": "fb260735",
   "metadata": {},
   "outputs": [],
   "source": [
    "conn = mysql.connector.connect(user='root',password='adi@1234',database='assignment')"
   ]
  },
  {
   "cell_type": "code",
   "execution_count": 6,
   "id": "1f9ee172",
   "metadata": {},
   "outputs": [],
   "source": [
    "cursor = conn.cursor()"
   ]
  },
  {
   "cell_type": "code",
   "execution_count": 7,
   "id": "37c26f3a",
   "metadata": {},
   "outputs": [
    {
     "name": "stdout",
     "output_type": "stream",
     "text": [
      "+-------------+-------------+--------------+----------+--------------------+---------+----------+---------------------+\n",
      "|   Worker_id | FirstName   | SecondName   | City     | Email              | Dept    |   Salary | JoiningDate         |\n",
      "|-------------+-------------+--------------+----------+--------------------+---------+----------+---------------------|\n",
      "|           1 | Akash       | Malik        | Delhi    | akash123@gmail.com | HR      |    45000 | 2021-02-20 09:00:00 |\n",
      "|           2 | Aka         | Ma           | Noida    | aka@gmail.com      | Admin   |    30000 | 2021-06-01 09:00:00 |\n",
      "|           3 | Jay         | Singh        | Delhi    | jay@gmail.com      | Admin   |    45000 | 2022-01-15 09:00:00 |\n",
      "|           4 | Ankita      | Jain         | Gurugram | anki@gmail.com     | Account |    40000 | 2022-02-20 09:00:00 |\n",
      "|           5 | Pooja       | Patil        | Delhi    | pooja@gmail.com    | IT      |    40000 | 2022-02-01 09:00:00 |\n",
      "|           6 | Anju        | Tomar        | Noida    | anju@gmail.com     | HR      |    45000 | 2022-04-10 09:00:00 |\n",
      "|           7 | Kaira       | Singh        | Delhi    | kaira@gmail.com    | Account |    30000 | 2022-02-20 09:00:00 |\n",
      "+-------------+-------------+--------------+----------+--------------------+---------+----------+---------------------+\n"
     ]
    }
   ],
   "source": [
    "cursor.execute(\"select * from workers\")\n",
    "result = cursor.fetchall()\n",
    "\n",
    "print(tabulate(result, headers=['Worker_id', 'FirstName', 'SecondName', 'City', 'Email', 'Dept', 'Salary', 'JoiningDate'], tablefmt='psql'))"
   ]
  },
  {
   "cell_type": "code",
   "execution_count": 8,
   "id": "d37f5355",
   "metadata": {},
   "outputs": [],
   "source": [
    "cursor.execute(\"CREATE TABLE assignment.worker_dup AS SELECT * FROM assignment.workers\")"
   ]
  },
  {
   "cell_type": "markdown",
   "id": "491448c8",
   "metadata": {},
   "source": [
    "Q-1. Write an SQL query to fetch “FIRST_NAME” from Worker table using the alias name as <WORKER_NAME>. "
   ]
  },
  {
   "cell_type": "code",
   "execution_count": 9,
   "id": "928bfa84",
   "metadata": {},
   "outputs": [
    {
     "name": "stdout",
     "output_type": "stream",
     "text": [
      "+---------------+\n",
      "| Worker_Name   |\n",
      "|---------------|\n",
      "| Akash         |\n",
      "| Aka           |\n",
      "| Jay           |\n",
      "| Ankita        |\n",
      "| Pooja         |\n",
      "| Anju          |\n",
      "| Kaira         |\n",
      "+---------------+\n"
     ]
    }
   ],
   "source": [
    "cursor.execute(\"select First_name as Worker_name from worker_dup\")\n",
    "result = cursor.fetchall()\n",
    "\n",
    "print(tabulate(result, headers=['Worker_Name'],tablefmt='psql'))"
   ]
  },
  {
   "cell_type": "markdown",
   "id": "2f95cb18",
   "metadata": {},
   "source": [
    "Q-2. Write an SQL query to fetch unique values of DEPARTMENT from Worker table."
   ]
  },
  {
   "cell_type": "code",
   "execution_count": 10,
   "id": "8be946f4",
   "metadata": {},
   "outputs": [
    {
     "name": "stdout",
     "output_type": "stream",
     "text": [
      "+--------------+\n",
      "| Department   |\n",
      "|--------------|\n",
      "| HR           |\n",
      "| Admin        |\n",
      "| Account      |\n",
      "| IT           |\n",
      "+--------------+\n"
     ]
    }
   ],
   "source": [
    "cursor.execute(\"select distinct Department from worker_dup\")\n",
    "result = cursor.fetchall()\n",
    "\n",
    "print(tabulate(result, headers=['Department'], tablefmt='psql'))"
   ]
  },
  {
   "cell_type": "markdown",
   "id": "0c56542b",
   "metadata": {},
   "source": [
    "Q-3. Write an SQL query to show the last 5 record from a table."
   ]
  },
  {
   "cell_type": "code",
   "execution_count": 11,
   "id": "ac2ede0e",
   "metadata": {},
   "outputs": [],
   "source": [
    "query = \"\"\"SELECT * FROM worker_dup ORDER BY worker_id DESC LIMIT 5;\"\"\"\n",
    "\n",
    "cursor.execute(query)"
   ]
  },
  {
   "cell_type": "code",
   "execution_count": 12,
   "id": "a903c8be",
   "metadata": {},
   "outputs": [
    {
     "name": "stdout",
     "output_type": "stream",
     "text": [
      "+-------------+-------------+--------------+----------+-----------------+---------+----------+---------------------+\n",
      "|   Worker_id | FirstName   | SecondName   | City     | Email           | Dept    |   Salary | JoiningDate         |\n",
      "|-------------+-------------+--------------+----------+-----------------+---------+----------+---------------------|\n",
      "|           7 | Kaira       | Singh        | Delhi    | kaira@gmail.com | Account |    30000 | 2022-02-20 09:00:00 |\n",
      "|           6 | Anju        | Tomar        | Noida    | anju@gmail.com  | HR      |    45000 | 2022-04-10 09:00:00 |\n",
      "|           5 | Pooja       | Patil        | Delhi    | pooja@gmail.com | IT      |    40000 | 2022-02-01 09:00:00 |\n",
      "|           4 | Ankita      | Jain         | Gurugram | anki@gmail.com  | Account |    40000 | 2022-02-20 09:00:00 |\n",
      "|           3 | Jay         | Singh        | Delhi    | jay@gmail.com   | Admin   |    45000 | 2022-01-15 09:00:00 |\n",
      "+-------------+-------------+--------------+----------+-----------------+---------+----------+---------------------+\n"
     ]
    }
   ],
   "source": [
    "result = cursor.fetchall()\n",
    "\n",
    "print(tabulate(result, headers=['Worker_id', 'FirstName', 'SecondName', 'City', 'Email', 'Dept', 'Salary', 'JoiningDate'], tablefmt='psql'))"
   ]
  },
  {
   "cell_type": "code",
   "execution_count": 13,
   "id": "7107577b",
   "metadata": {},
   "outputs": [],
   "source": [
    "cursor.execute(\"drop table assignment.worker_dup\")"
   ]
  },
  {
   "cell_type": "code",
   "execution_count": 14,
   "id": "23b3e3f4",
   "metadata": {},
   "outputs": [],
   "source": [
    "cursor.close()\n",
    "conn.close()"
   ]
  }
 ],
 "metadata": {
  "kernelspec": {
   "display_name": "Python 3 (ipykernel)",
   "language": "python",
   "name": "python3"
  },
  "language_info": {
   "codemirror_mode": {
    "name": "ipython",
    "version": 3
   },
   "file_extension": ".py",
   "mimetype": "text/x-python",
   "name": "python",
   "nbconvert_exporter": "python",
   "pygments_lexer": "ipython3",
   "version": "3.9.7"
  }
 },
 "nbformat": 4,
 "nbformat_minor": 5
}

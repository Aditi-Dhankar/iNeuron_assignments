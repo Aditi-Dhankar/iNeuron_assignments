{
 "cells": [
  {
   "cell_type": "code",
   "execution_count": 1,
   "id": "c1c5ae51",
   "metadata": {},
   "outputs": [],
   "source": [
    "import mysql.connector"
   ]
  },
  {
   "cell_type": "code",
   "execution_count": 2,
   "id": "05d342f0",
   "metadata": {},
   "outputs": [],
   "source": [
    "from tabulate import tabulate"
   ]
  },
  {
   "cell_type": "code",
   "execution_count": 3,
   "id": "bf2aebc4",
   "metadata": {},
   "outputs": [],
   "source": [
    "conn = mysql.connector.connect(user='root',password='adi@1234',database='assignment')"
   ]
  },
  {
   "cell_type": "code",
   "execution_count": 4,
   "id": "112f874e",
   "metadata": {},
   "outputs": [],
   "source": [
    "cursor = conn.cursor()"
   ]
  },
  {
   "cell_type": "code",
   "execution_count": 5,
   "id": "b8f9cc98",
   "metadata": {},
   "outputs": [],
   "source": [
    "cursor.execute(\"create table worker_dup as select * from workers\")"
   ]
  },
  {
   "cell_type": "markdown",
   "id": "9176562c",
   "metadata": {},
   "source": [
    "Q-1. Write an SQL query to print the FIRST_NAME from Worker table after replacing ‘a’ with ‘A’"
   ]
  },
  {
   "cell_type": "code",
   "execution_count": 6,
   "id": "43058b37",
   "metadata": {},
   "outputs": [
    {
     "name": "stdout",
     "output_type": "stream",
     "text": [
      "+-------------+\n",
      "| FirstName   |\n",
      "|-------------|\n",
      "| AkAsh       |\n",
      "| AkA         |\n",
      "| JAy         |\n",
      "| AnkitA      |\n",
      "| PoojA       |\n",
      "| Anju        |\n",
      "| KAirA       |\n",
      "+-------------+\n"
     ]
    }
   ],
   "source": [
    "cursor.execute(\"select replace(First_name, 'a', 'A') from worker_dup\")\n",
    "result = cursor.fetchall()\n",
    "\n",
    "print(tabulate(result,headers=['FirstName'], tablefmt='psql'))"
   ]
  },
  {
   "cell_type": "markdown",
   "id": "5bcc1ca7",
   "metadata": {},
   "source": [
    "Q-2. Write an SQL query to print all Worker details from the Worker table order by FIRST_NAME Ascending and DEPARTMENT Descending."
   ]
  },
  {
   "cell_type": "code",
   "execution_count": 7,
   "id": "72740363",
   "metadata": {},
   "outputs": [
    {
     "name": "stdout",
     "output_type": "stream",
     "text": [
      "+-------------+-------------+--------------+----------+--------------------+---------+----------+---------------------+\n",
      "|   Worker_id | FirstName   | SecondName   | City     | Email              | Dept    |   Salary | JoiningDate         |\n",
      "|-------------+-------------+--------------+----------+--------------------+---------+----------+---------------------|\n",
      "|           2 | Aka         | Ma           | Noida    | aka@gmail.com      | Admin   |    30000 | 2021-06-01 09:00:00 |\n",
      "|           1 | Akash       | Malik        | Delhi    | akash123@gmail.com | HR      |    45000 | 2021-02-20 09:00:00 |\n",
      "|           6 | Anju        | Tomar        | Noida    | anju@gmail.com     | HR      |    45000 | 2022-04-10 09:00:00 |\n",
      "|           4 | Ankita      | Jain         | Gurugram | anki@gmail.com     | Account |    40000 | 2022-02-20 09:00:00 |\n",
      "|           3 | Jay         | Singh        | Delhi    | jay@gmail.com      | Admin   |    45000 | 2022-01-15 09:00:00 |\n",
      "|           7 | Kaira       | Singh        | Delhi    | kaira@gmail.com    | Account |    30000 | 2022-02-20 09:00:00 |\n",
      "|           5 | Pooja       | Patil        | Delhi    | pooja@gmail.com    | IT      |    40000 | 2022-02-01 09:00:00 |\n",
      "+-------------+-------------+--------------+----------+--------------------+---------+----------+---------------------+\n"
     ]
    }
   ],
   "source": [
    "cursor.execute(\"select * from worker_dup order by First_name asc, Department desc\")\n",
    "result = cursor.fetchall()\n",
    "\n",
    "print(tabulate(result,headers=['Worker_id', 'FirstName', 'SecondName', 'City', 'Email', 'Dept', 'Salary', 'JoiningDate'], tablefmt='psql'))"
   ]
  },
  {
   "cell_type": "markdown",
   "id": "642b2d78",
   "metadata": {},
   "source": [
    "Q-3. Write an SQL query to fetch the names of workers who earn the highest salary."
   ]
  },
  {
   "cell_type": "code",
   "execution_count": 8,
   "id": "5f365be5",
   "metadata": {},
   "outputs": [
    {
     "name": "stdout",
     "output_type": "stream",
     "text": [
      "+-------------+----------+\n",
      "| FirstName   |   Salary |\n",
      "|-------------+----------|\n",
      "| Akash       |    45000 |\n",
      "+-------------+----------+\n"
     ]
    }
   ],
   "source": [
    "cursor.execute(\"select First_name, max(Salary) from worker_dup\")\n",
    "result = cursor.fetchall()\n",
    "\n",
    "print(tabulate(result,headers=['FirstName', 'Salary'], tablefmt='psql'))"
   ]
  },
  {
   "cell_type": "code",
   "execution_count": 9,
   "id": "9d2f725f",
   "metadata": {},
   "outputs": [],
   "source": [
    "cursor.execute(\"drop table worker_dup\")"
   ]
  },
  {
   "cell_type": "code",
   "execution_count": 10,
   "id": "0d04ca09",
   "metadata": {},
   "outputs": [],
   "source": [
    "cursor.close()\n",
    "conn.close()"
   ]
  }
 ],
 "metadata": {
  "kernelspec": {
   "display_name": "Python 3 (ipykernel)",
   "language": "python",
   "name": "python3"
  },
  "language_info": {
   "codemirror_mode": {
    "name": "ipython",
    "version": 3
   },
   "file_extension": ".py",
   "mimetype": "text/x-python",
   "name": "python",
   "nbconvert_exporter": "python",
   "pygments_lexer": "ipython3",
   "version": "3.9.7"
  }
 },
 "nbformat": 4,
 "nbformat_minor": 5
}

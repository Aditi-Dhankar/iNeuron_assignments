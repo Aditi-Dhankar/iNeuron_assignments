{
 "cells": [
  {
   "cell_type": "markdown",
   "id": "086aa076",
   "metadata": {},
   "source": [
    "1. In the below elements which of them are values or an expression? eg:- values can be integer or string and expressions will be mathematical operators.\n",
    "\n",
    "a) * \n",
    "\n",
    "It is an expression\n",
    "\n",
    "b) 'hello'\n",
    "\n",
    "It is a value (string)\n",
    "\n",
    "c) -87.8\n",
    "\n",
    "It is a value (integer)\n",
    "\n",
    "d) - \n",
    "\n",
    "It is an expression\n",
    "\n",
    "e) / \n",
    "\n",
    "It is an expression\n",
    "\n",
    "f) +\n",
    "\n",
    "It is an expression\n",
    "\n",
    "g) 6\n",
    "\n",
    "It is a value (integer)"
   ]
  },
  {
   "cell_type": "markdown",
   "id": "eb7123fb",
   "metadata": {},
   "source": [
    " 2. What is the difference between string and variable?\n",
    " \n",
    "String is simply a type of information we want to store or use. Whereas, variables are capable of storing/holding these information for us.\n",
    "\n",
    "Example:\n",
    "if we write 'Hello!!' it is a string value but if we write:\n",
    "\n",
    "a = 'Hello!!' then we are storing string (Hello!) in a variable (a). \n",
    " "
   ]
  },
  {
   "cell_type": "markdown",
   "id": "b3167d5b",
   "metadata": {},
   "source": [
    "3. Describe three different data types.\n",
    "\n",
    "String: the datatype used for characters and the characters are enclosed in single-quotes, or double-qoutes.\n",
    "\n",
    "List: this datatype provides the freedom to store multiple data in one variable. The format for the same is: [1,2,3,4]\n",
    "\n",
    "Boolean: this datatype is used to determine if a condition is True or False. Ex: 2>5 is False if we check: "
   ]
  },
  {
   "cell_type": "code",
   "execution_count": 3,
   "id": "6c052eda",
   "metadata": {},
   "outputs": [],
   "source": [
    "a= 2>5"
   ]
  },
  {
   "cell_type": "code",
   "execution_count": 4,
   "id": "9b3dcbe4",
   "metadata": {},
   "outputs": [
    {
     "data": {
      "text/plain": [
       "False"
      ]
     },
     "execution_count": 4,
     "metadata": {},
     "output_type": "execute_result"
    }
   ],
   "source": [
    "a"
   ]
  },
  {
   "cell_type": "code",
   "execution_count": 5,
   "id": "624d24d3",
   "metadata": {},
   "outputs": [
    {
     "data": {
      "text/plain": [
       "bool"
      ]
     },
     "execution_count": 5,
     "metadata": {},
     "output_type": "execute_result"
    }
   ],
   "source": [
    "type(a)"
   ]
  },
  {
   "cell_type": "markdown",
   "id": "099d809c",
   "metadata": {},
   "source": [
    "4. What is an expression made up of? What do all expressions do? \n",
    "\n",
    "An expression is a set of operators and values that are combined to generate a different value.\n",
    "Ex:\n",
    "     2 + 2 (values= 2, operator= +)\n",
    "     \n",
    "     result: 4 (generated value)\n"
   ]
  },
  {
   "cell_type": "markdown",
   "id": "6eb06669",
   "metadata": {},
   "source": [
    "5. This assignment statements, like spam = 10. What is the difference between an expression and a statement?\n",
    "\n",
    "expression is a process in which we perform certain calculations whihc leads to generation of a result value.\n",
    "ex:\n",
    "        2*8 (expression)\n",
    "output: 16\n",
    "\n",
    "statement can be stating an expression as well as just stating a value. \n",
    "ex:\n",
    "        a = 8\n",
    "        print(a)\n",
    "output: 8\n"
   ]
  },
  {
   "cell_type": "markdown",
   "id": "ce20a546",
   "metadata": {},
   "source": [
    "6. After running the following code, what does the variable bacon contain?"
   ]
  },
  {
   "cell_type": "code",
   "execution_count": 11,
   "id": "48c0280c",
   "metadata": {},
   "outputs": [],
   "source": [
    "bacon = 22"
   ]
  },
  {
   "cell_type": "code",
   "execution_count": 12,
   "id": "f908738a",
   "metadata": {},
   "outputs": [
    {
     "data": {
      "text/plain": [
       "23"
      ]
     },
     "execution_count": 12,
     "metadata": {},
     "output_type": "execute_result"
    }
   ],
   "source": [
    "bacon + 1"
   ]
  },
  {
   "cell_type": "markdown",
   "id": "76008263",
   "metadata": {},
   "source": [
    "The output will be 22 + 1 = 23\n",
    "\n",
    "as we have integer value in the variable adding 1 will lead to simple addition in the integer value."
   ]
  },
  {
   "cell_type": "markdown",
   "id": "c0c27bdf",
   "metadata": {},
   "source": [
    "7. What should the values of the following two terms be?\n",
    "\n",
    "It will be same \n",
    "'spam' + 'spamspam' : 'spamspamspam'\n",
    "'spam' * 3 : 'spamspamspam'\n"
   ]
  },
  {
   "cell_type": "code",
   "execution_count": 13,
   "id": "c484d833",
   "metadata": {},
   "outputs": [
    {
     "data": {
      "text/plain": [
       "'spamspamspam'"
      ]
     },
     "execution_count": 13,
     "metadata": {},
     "output_type": "execute_result"
    }
   ],
   "source": [
    "'spam' + 'spamspam'"
   ]
  },
  {
   "cell_type": "code",
   "execution_count": 14,
   "id": "e5dbccb1",
   "metadata": {},
   "outputs": [
    {
     "data": {
      "text/plain": [
       "'spamspamspam'"
      ]
     },
     "execution_count": 14,
     "metadata": {},
     "output_type": "execute_result"
    }
   ],
   "source": [
    "'spam' * 3"
   ]
  },
  {
   "cell_type": "markdown",
   "id": "a28a184c",
   "metadata": {},
   "source": [
    "8. Why is eggs a valid variable name while 100 is invalid?\n",
    "\n",
    "The variables cannot have only integer values but if we want to include integer in the variable name we can try using a string value followed by an integer. The variable names should be different than the literal values.  "
   ]
  },
  {
   "cell_type": "code",
   "execution_count": 15,
   "id": "38dcf5cf",
   "metadata": {},
   "outputs": [
    {
     "ename": "SyntaxError",
     "evalue": "cannot assign to literal (Temp/ipykernel_1364/3507547406.py, line 1)",
     "output_type": "error",
     "traceback": [
      "\u001b[1;36m  File \u001b[1;32m\"C:\\Users\\hp\\AppData\\Local\\Temp/ipykernel_1364/3507547406.py\"\u001b[1;36m, line \u001b[1;32m1\u001b[0m\n\u001b[1;33m    100 = 2+4\u001b[0m\n\u001b[1;37m    ^\u001b[0m\n\u001b[1;31mSyntaxError\u001b[0m\u001b[1;31m:\u001b[0m cannot assign to literal\n"
     ]
    }
   ],
   "source": [
    "100 = 2+4"
   ]
  },
  {
   "cell_type": "markdown",
   "id": "4cae8d84",
   "metadata": {},
   "source": [
    " 9. What three functions can be used to get the integer, floating-point number, or string version of a value?\n",
    " \n",
    " str(): for string\n",
    " int(): for integer\n",
    " float(): for float"
   ]
  },
  {
   "cell_type": "markdown",
   "id": "945ae4e0",
   "metadata": {},
   "source": [
    "10. Why does this expression cause an error? How can you fix it?\n",
    "'I have eaten ' + 99 + ' burritos.'\n",
    "\n",
    "You can simply add single-qoutes to the integer 99:\n",
    "\n",
    "'I have eaten ' + '99' + ' burritos.'\n",
    "\n",
    "As addition cannot take place between different datatypes."
   ]
  },
  {
   "cell_type": "code",
   "execution_count": 17,
   "id": "32e1fc17",
   "metadata": {},
   "outputs": [
    {
     "data": {
      "text/plain": [
       "'I have eaten 99 burritos.'"
      ]
     },
     "execution_count": 17,
     "metadata": {},
     "output_type": "execute_result"
    }
   ],
   "source": [
    "'I have eaten ' + '99' + ' burritos.'"
   ]
  }
 ],
 "metadata": {
  "kernelspec": {
   "display_name": "Python 3 (ipykernel)",
   "language": "python",
   "name": "python3"
  },
  "language_info": {
   "codemirror_mode": {
    "name": "ipython",
    "version": 3
   },
   "file_extension": ".py",
   "mimetype": "text/x-python",
   "name": "python",
   "nbconvert_exporter": "python",
   "pygments_lexer": "ipython3",
   "version": "3.9.7"
  }
 },
 "nbformat": 4,
 "nbformat_minor": 5
}

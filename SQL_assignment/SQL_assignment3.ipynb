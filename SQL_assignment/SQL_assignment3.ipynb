{
 "cells": [
  {
   "cell_type": "code",
   "execution_count": 1,
   "id": "1b39d07d",
   "metadata": {},
   "outputs": [],
   "source": [
    "import mysql.connector"
   ]
  },
  {
   "cell_type": "code",
   "execution_count": 2,
   "id": "5492a509",
   "metadata": {},
   "outputs": [],
   "source": [
    "from tabulate import tabulate"
   ]
  },
  {
   "cell_type": "code",
   "execution_count": 3,
   "id": "94f20235",
   "metadata": {},
   "outputs": [],
   "source": [
    "conn = mysql.connector.connect(user='root', password='adi@1234', database='assignment')"
   ]
  },
  {
   "cell_type": "code",
   "execution_count": 4,
   "id": "f5d6d2d1",
   "metadata": {},
   "outputs": [],
   "source": [
    "cursor = conn.cursor()"
   ]
  },
  {
   "cell_type": "code",
   "execution_count": 5,
   "id": "5deb2d5a",
   "metadata": {},
   "outputs": [],
   "source": [
    "cursor.execute(\"create table worker_dup as select * from workers\")"
   ]
  },
  {
   "cell_type": "markdown",
   "id": "186bbecf",
   "metadata": {},
   "source": [
    "Q-1. Write an SQL query to print the FIRST_NAME from Worker table after removing white spaces from the right side."
   ]
  },
  {
   "cell_type": "code",
   "execution_count": 6,
   "id": "c68c6d47",
   "metadata": {},
   "outputs": [
    {
     "name": "stdout",
     "output_type": "stream",
     "text": [
      "+---------------------------------+\n",
      "| FirstName_without_right_space   |\n",
      "|---------------------------------|\n",
      "| Akash                           |\n",
      "| Aka                             |\n",
      "| Jay                             |\n",
      "| Ankita                          |\n",
      "| Pooja                           |\n",
      "| Anju                            |\n",
      "| Kaira                           |\n",
      "+---------------------------------+\n"
     ]
    }
   ],
   "source": [
    "cursor.execute(\"select rtrim(First_name) from worker_dup\")\n",
    "result = cursor.fetchall()\n",
    "\n",
    "print(tabulate(result, headers=['FirstName_without_right_space'], tablefmt='psql'))"
   ]
  },
  {
   "cell_type": "markdown",
   "id": "44c05e69",
   "metadata": {},
   "source": [
    "Q-2. Write an SQL query that fetches the unique values of DEPARTMENT from Worker table and prints its length."
   ]
  },
  {
   "cell_type": "code",
   "execution_count": 7,
   "id": "c33fd76a",
   "metadata": {},
   "outputs": [
    {
     "name": "stdout",
     "output_type": "stream",
     "text": [
      "+----------+--------------+\n",
      "|   length | Department   |\n",
      "|----------+--------------|\n",
      "|        2 | HR           |\n",
      "|        5 | Admin        |\n",
      "|        7 | Account      |\n",
      "|        2 | IT           |\n",
      "+----------+--------------+\n"
     ]
    }
   ],
   "source": [
    "cursor.execute(\"select distinct length(Department), Department from worker_dup\")\n",
    "result = cursor.fetchall()\n",
    "\n",
    "print(tabulate(result, headers=['length', 'Department'], tablefmt='psql'))"
   ]
  },
  {
   "cell_type": "markdown",
   "id": "a626ebdc",
   "metadata": {},
   "source": [
    "Q-3. Write an SQL query to fetch nth max salaries from a table. (note: considering n=6)"
   ]
  },
  {
   "cell_type": "code",
   "execution_count": 8,
   "id": "420a94ee",
   "metadata": {},
   "outputs": [
    {
     "name": "stdout",
     "output_type": "stream",
     "text": [
      "+-------------+-------------+--------------+--------+-----------------+---------+----------+---------------------+\n",
      "|   Worker_id | FirstName   | SecondName   | City   | Email           | Dept    |   Salary | JoiningDate         |\n",
      "|-------------+-------------+--------------+--------+-----------------+---------+----------+---------------------|\n",
      "|           2 | Aka         | Ma           | Noida  | aka@gmail.com   | Admin   |    30000 | 2021-06-01 09:00:00 |\n",
      "|           7 | Kaira       | Singh        | Delhi  | kaira@gmail.com | Account |    30000 | 2022-02-20 09:00:00 |\n",
      "+-------------+-------------+--------------+--------+-----------------+---------+----------+---------------------+\n"
     ]
    }
   ],
   "source": [
    "cursor.execute(\"select * from worker_dup where salary = (select Salary from worker_dup order by Salary desc limit 5,1)\")\n",
    "result= cursor.fetchall()\n",
    "\n",
    "print(tabulate(result, headers=['Worker_id', 'FirstName', 'SecondName', 'City', 'Email', 'Dept', 'Salary', 'JoiningDate'], tablefmt='psql'))"
   ]
  },
  {
   "cell_type": "code",
   "execution_count": 9,
   "id": "b93e7ae7",
   "metadata": {},
   "outputs": [],
   "source": [
    "cursor.execute(\"drop table worker_dup\")"
   ]
  },
  {
   "cell_type": "code",
   "execution_count": 10,
   "id": "0427db5c",
   "metadata": {},
   "outputs": [],
   "source": [
    "cursor.close()\n",
    "conn.close()"
   ]
  }
 ],
 "metadata": {
  "kernelspec": {
   "display_name": "Python 3 (ipykernel)",
   "language": "python",
   "name": "python3"
  },
  "language_info": {
   "codemirror_mode": {
    "name": "ipython",
    "version": 3
   },
   "file_extension": ".py",
   "mimetype": "text/x-python",
   "name": "python",
   "nbconvert_exporter": "python",
   "pygments_lexer": "ipython3",
   "version": "3.9.7"
  }
 },
 "nbformat": 4,
 "nbformat_minor": 5
}

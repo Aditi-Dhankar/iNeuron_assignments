{
 "cells": [
  {
   "cell_type": "markdown",
   "id": "fe6e0f3c",
   "metadata": {},
   "source": [
    "1.\tWrite a Python Program to Find LCM?"
   ]
  },
  {
   "cell_type": "code",
   "execution_count": 8,
   "id": "8fea64cb",
   "metadata": {},
   "outputs": [
    {
     "name": "stdout",
     "output_type": "stream",
     "text": [
      "The L.C.M is 476\n"
     ]
    }
   ],
   "source": [
    "def lcm_cal(x,y):\n",
    "    if x > y:\n",
    "        greater = x\n",
    "    else:\n",
    "        greater = y\n",
    "    while(True):\n",
    "        if((greater % x == 0) and (greater % y == 0)):\n",
    "            lcm = greater\n",
    "            break\n",
    "        greater +=1\n",
    "    return lcm\n",
    "x= 34\n",
    "y=28\n",
    "print (\"The L.C.M is\", lcm_cal(x,y))\n"
   ]
  },
  {
   "cell_type": "markdown",
   "id": "9843df20",
   "metadata": {},
   "source": [
    "2.\tWrite a Python Program to Find HCF?"
   ]
  },
  {
   "cell_type": "code",
   "execution_count": 14,
   "id": "54494636",
   "metadata": {},
   "outputs": [
    {
     "name": "stdout",
     "output_type": "stream",
     "text": [
      "The H.C.F is 2\n"
     ]
    }
   ],
   "source": [
    "def hcf_cal(x,y):\n",
    "    if x < y:\n",
    "        smaller = x\n",
    "    else:\n",
    "        smaller = y\n",
    "    for i in range(1, smaller+1):\n",
    "        if((x % i == 0) and (y % i == 0)):\n",
    "            hcf = i\n",
    "    return hcf\n",
    "x = 12\n",
    "y = 14\n",
    "print (\"The H.C.F is\", hcf_cal(x,y))"
   ]
  },
  {
   "cell_type": "markdown",
   "id": "e9396b4c",
   "metadata": {},
   "source": [
    "3.\tWrite a Python Program to Convert Decimal to Binary, Octal and Hexadecimal?"
   ]
  },
  {
   "cell_type": "code",
   "execution_count": 17,
   "id": "47c57f71",
   "metadata": {},
   "outputs": [
    {
     "name": "stdout",
     "output_type": "stream",
     "text": [
      "Enter the number: 222\n",
      "The decimal value of 222 is:\n",
      "0b11011110 in binary\n",
      "0o336 in octal\n",
      "0xde in hexadecimal\n"
     ]
    }
   ],
   "source": [
    "num = int(input(\"Enter the number: \"))\n",
    "print(\"The decimal value of\", num, \"is:\")\n",
    "print(bin(num), \"in binary\")\n",
    "print(oct(num), \"in octal\")\n",
    "print(hex(num), \"in hexadecimal\")"
   ]
  },
  {
   "cell_type": "markdown",
   "id": "58c9ea0b",
   "metadata": {},
   "source": [
    "4.\tWrite a Python Program To Find ASCII value of a character?"
   ]
  },
  {
   "cell_type": "code",
   "execution_count": 19,
   "id": "7b8499ac",
   "metadata": {},
   "outputs": [
    {
     "name": "stdout",
     "output_type": "stream",
     "text": [
      "Enter the character:A\n",
      "The ASCII value of 'A' is 65\n"
     ]
    }
   ],
   "source": [
    "a = input(\"Enter the character:\")\n",
    "print(\"The ASCII value of '\" + a + \"' is\", ord(a))"
   ]
  },
  {
   "cell_type": "markdown",
   "id": "24dd0d06",
   "metadata": {},
   "source": [
    "5.\tWrite a Python Program to Make a Simple Calculator with 4 basic mathematical operations?"
   ]
  },
  {
   "cell_type": "code",
   "execution_count": 30,
   "id": "30a58ba8",
   "metadata": {},
   "outputs": [
    {
     "name": "stdout",
     "output_type": "stream",
     "text": [
      "Select operation\n",
      "1. Add\n",
      "2. Subtract\n",
      "3. Multiply\n",
      "4. Divide\n",
      "Enter choice(1/2/3/4): 3\n",
      "Enter first number: 12\n",
      "Enter second number: 6\n",
      "12.0 * 6.0 = 72.0\n",
      "Next Calculation? (yes/no): yes\n",
      "Enter choice(1/2/3/4): 1\n",
      "Enter first number: 12\n",
      "Enter second number: 6\n",
      "12.0 + 6.0 = 18.0\n",
      "Next Calculation? (yes/no): no\n"
     ]
    }
   ],
   "source": [
    "# This function adds two numbers\n",
    "def add(x,y):\n",
    "    return x + y\n",
    "\n",
    "# This function subtracts two numbers\n",
    "def sub(x,y):\n",
    "    return x - y\n",
    "\n",
    "# This function multiplies two numbers\n",
    "def mul(x,y):\n",
    "    return x * y\n",
    "\n",
    "# This function divides two numbers\n",
    "def div(x,y):\n",
    "    return x / y\n",
    "\n",
    "print(\"Select operation\")\n",
    "print(\"1. Add\")\n",
    "print(\"2. Subtract\")\n",
    "print(\"3. Multiply\")\n",
    "print(\"4. Divide\")\n",
    "\n",
    "while True:\n",
    "    choice = input (\"Enter choice(1/2/3/4): \")\n",
    "    if choice in ('1','2','3','4'):\n",
    "        num1 = float(input(\"Enter first number: \"))\n",
    "        num2 = float(input(\"Enter second number: \"))\n",
    "\n",
    "        if choice == '1':\n",
    "            print(num1, \"+\", num2, \"=\", add(num1, num2))\n",
    "        elif choice == '2':\n",
    "            print(num1, \"-\", num2, \"=\", sub(num1, num2))\n",
    "        elif choice == '3':\n",
    "            print(num1, \"*\", num2, \"=\", mul(num1, num2))\n",
    "        elif choice == '4':\n",
    "            print(num1, \"/\", num2, \"=\", div(num1, num2))\n",
    "\n",
    "        next_cal = input(\"Next Calculation? (yes/no): \")\n",
    "        if next_cal == \"no\":\n",
    "            break\n",
    "    else:\n",
    "        print(\"Invalid Input\")"
   ]
  }
 ],
 "metadata": {
  "kernelspec": {
   "display_name": "Python 3 (ipykernel)",
   "language": "python",
   "name": "python3"
  },
  "language_info": {
   "codemirror_mode": {
    "name": "ipython",
    "version": 3
   },
   "file_extension": ".py",
   "mimetype": "text/x-python",
   "name": "python",
   "nbconvert_exporter": "python",
   "pygments_lexer": "ipython3",
   "version": "3.9.7"
  }
 },
 "nbformat": 4,
 "nbformat_minor": 5
}

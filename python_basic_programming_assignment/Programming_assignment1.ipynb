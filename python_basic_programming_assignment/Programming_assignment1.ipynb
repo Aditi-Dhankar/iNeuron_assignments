{
 "cells": [
  {
   "cell_type": "markdown",
   "id": "3dc50eb3",
   "metadata": {},
   "source": [
    "1.\tWrite a Python program to print \"Hello Python\"?"
   ]
  },
  {
   "cell_type": "code",
   "execution_count": 1,
   "id": "ac8bafb0",
   "metadata": {},
   "outputs": [
    {
     "name": "stdout",
     "output_type": "stream",
     "text": [
      "Hello Python\n"
     ]
    }
   ],
   "source": [
    "print(\"Hello Python\")"
   ]
  },
  {
   "cell_type": "markdown",
   "id": "b4b3f592",
   "metadata": {},
   "source": [
    "2.\tWrite a Python program to do arithmetical operations addition and division.?"
   ]
  },
  {
   "cell_type": "code",
   "execution_count": 2,
   "id": "59777a58",
   "metadata": {},
   "outputs": [
    {
     "name": "stdout",
     "output_type": "stream",
     "text": [
      "Enter a number: 12\n",
      "Enter another number: 6\n",
      "Sum of the two numbers:  18.0\n",
      "The division of the two numbers:  2.0\n"
     ]
    }
   ],
   "source": [
    "x = float(input('Enter a number: '))\n",
    "y = float(input('Enter another number: '))\n",
    "\n",
    "# For addition\n",
    "add = x + y\n",
    "print('Sum of the two numbers: ', add)\n",
    "\n",
    "# For division\n",
    "div = x/y\n",
    "print('The division of the two numbers: ', div)"
   ]
  },
  {
   "cell_type": "markdown",
   "id": "5f36ae35",
   "metadata": {},
   "source": [
    "3.\tWrite a Python program to find the area of a triangle?"
   ]
  },
  {
   "cell_type": "code",
   "execution_count": 3,
   "id": "1c3ef980",
   "metadata": {},
   "outputs": [
    {
     "name": "stdout",
     "output_type": "stream",
     "text": [
      "Enter the base of triangle: 12\n",
      "Enter the height of triangle: 10.5\n",
      "Area of the triangle is:  63.0\n"
     ]
    }
   ],
   "source": [
    "b = float(input('Enter the base of triangle: '))\n",
    "h = float(input('Enter the height of triangle: '))\n",
    "\n",
    "a = b*h/2\n",
    "\n",
    "print('Area of the triangle is: ', a)"
   ]
  },
  {
   "cell_type": "markdown",
   "id": "d507fa62",
   "metadata": {},
   "source": [
    "4.\tWrite a Python program to swap two variables?"
   ]
  },
  {
   "cell_type": "code",
   "execution_count": 4,
   "id": "af45dd26",
   "metadata": {},
   "outputs": [
    {
     "name": "stdout",
     "output_type": "stream",
     "text": [
      "Enter first string: Evening!!\n",
      "Enter second string: Good\n",
      "The variables after swaping are: Good Evening!!\n"
     ]
    }
   ],
   "source": [
    "x = str(input('Enter first string: '))\n",
    "y = str(input('Enter second string: '))\n",
    "\n",
    "temp = x\n",
    "x = y\n",
    "y = temp\n",
    "\n",
    "print('The variables after swaping are: '+ x +' '+ y)"
   ]
  },
  {
   "cell_type": "markdown",
   "id": "04c939d9",
   "metadata": {},
   "source": [
    "5.\tWrite a Python program to generate a random number?"
   ]
  },
  {
   "cell_type": "code",
   "execution_count": 5,
   "id": "ddc23c8a",
   "metadata": {},
   "outputs": [
    {
     "name": "stdout",
     "output_type": "stream",
     "text": [
      "7\n"
     ]
    }
   ],
   "source": [
    "import random\n",
    "\n",
    "print(random.randint(0,20))"
   ]
  }
 ],
 "metadata": {
  "kernelspec": {
   "display_name": "Python 3 (ipykernel)",
   "language": "python",
   "name": "python3"
  },
  "language_info": {
   "codemirror_mode": {
    "name": "ipython",
    "version": 3
   },
   "file_extension": ".py",
   "mimetype": "text/x-python",
   "name": "python",
   "nbconvert_exporter": "python",
   "pygments_lexer": "ipython3",
   "version": "3.9.7"
  }
 },
 "nbformat": 4,
 "nbformat_minor": 5
}

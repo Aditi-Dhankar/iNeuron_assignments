{
 "cells": [
  {
   "cell_type": "markdown",
   "id": "163bd1c7",
   "metadata": {},
   "source": [
    "1. Create a function in python to read the text file and replace specific content of the file."
   ]
  },
  {
   "cell_type": "code",
   "execution_count": 46,
   "id": "8c0899b3",
   "metadata": {},
   "outputs": [],
   "source": [
    "f = open(\"example.txt\", \"w+\")\n",
    "f.write(\"This is a placement assignment\")\n",
    "f.close()"
   ]
  },
  {
   "cell_type": "code",
   "execution_count": 47,
   "id": "6f01cf5f",
   "metadata": {},
   "outputs": [
    {
     "name": "stdout",
     "output_type": "stream",
     "text": [
      "This is a screening assignment <class 'str'>\n"
     ]
    }
   ],
   "source": [
    "f = open(\"example.txt\", \"r+\")\n",
    "data = f.read()\n",
    "data = data.replace(\"placement\", \"screening\", 1)\n",
    "print(data, type(data))"
   ]
  },
  {
   "cell_type": "code",
   "execution_count": 48,
   "id": "db7354b9",
   "metadata": {},
   "outputs": [],
   "source": [
    "f = open(\"example.txt\", \"w\") \n",
    "f.write(data)\n",
    "f.close()"
   ]
  },
  {
   "cell_type": "markdown",
   "id": "0f292a00",
   "metadata": {},
   "source": [
    "2. Demonstrate use of abstract class, multiple inheritance and decorator in python using examples."
   ]
  },
  {
   "cell_type": "code",
   "execution_count": 7,
   "id": "33007e52",
   "metadata": {},
   "outputs": [
    {
     "name": "stdout",
     "output_type": "stream",
     "text": [
      "Welcome to SBI bank!!\n",
      "Account number: 45788443322\n",
      "Current balance: 5000\n",
      "Congratulations! You are eligible for the offer\n"
     ]
    }
   ],
   "source": [
    "from abc import ABC, abstractmethod\n",
    "\n",
    "# Abstract class\n",
    "class Bank(ABC):\n",
    "    def bank_info(self):\n",
    "        print(\"Welcome to SBI bank!!\")\n",
    "        \n",
    "# Decorator\n",
    "    @abstractmethod\n",
    "    def offer(self):\n",
    "        \"Abstract Method\"\n",
    "        pass\n",
    "    \n",
    "# Inheritance\n",
    "    \n",
    "class SBI(Bank):\n",
    "    def account_details(self):\n",
    "        print(\"Account number: 45788443322\")\n",
    "    def balance(self):\n",
    "        print(\"Current balance: 5000\")\n",
    "    \n",
    "class detail(SBI):\n",
    "    def offer(self):\n",
    "        print(\"Congratulations! You are eligible for the offer\")\n",
    "    \n",
    "\n",
    "d= detail()\n",
    "d.bank_info()\n",
    "d.account_details()\n",
    "d.balance()\n",
    "d.offer()"
   ]
  }
 ],
 "metadata": {
  "kernelspec": {
   "display_name": "Python 3 (ipykernel)",
   "language": "python",
   "name": "python3"
  },
  "language_info": {
   "codemirror_mode": {
    "name": "ipython",
    "version": 3
   },
   "file_extension": ".py",
   "mimetype": "text/x-python",
   "name": "python",
   "nbconvert_exporter": "python",
   "pygments_lexer": "ipython3",
   "version": "3.9.7"
  }
 },
 "nbformat": 4,
 "nbformat_minor": 5
}

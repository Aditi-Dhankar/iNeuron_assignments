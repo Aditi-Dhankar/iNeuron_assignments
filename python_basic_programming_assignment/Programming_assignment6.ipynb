{
 "cells": [
  {
   "cell_type": "markdown",
   "id": "03d91c28",
   "metadata": {},
   "source": [
    "1.\tWrite a Python Program to Display Fibonacci Sequence Using Recursion?"
   ]
  },
  {
   "cell_type": "code",
   "execution_count": 4,
   "id": "e0cc4392",
   "metadata": {},
   "outputs": [
    {
     "name": "stdout",
     "output_type": "stream",
     "text": [
      "Please enter the number here:10\n",
      "Fibonacci Sequence: \n",
      "0\n",
      "1\n",
      "1\n",
      "2\n",
      "3\n",
      "5\n",
      "8\n",
      "13\n",
      "21\n",
      "34\n"
     ]
    }
   ],
   "source": [
    "def recur_fibo(n):\n",
    "    if n <= 1:\n",
    "        return n\n",
    "    else:\n",
    "        return (recur_fibo(n-1) + recur_fibo(n-2))\n",
    "    \n",
    "nterms = int(input(\"Please enter the number here:\"))\n",
    "\n",
    "if nterms <= 0:\n",
    "    print(\"Enter Positive integer\")\n",
    "else:\n",
    "    print(\"Fibonacci Sequence: \")\n",
    "    for i in range(nterms):\n",
    "        print(recur_fibo(i))\n"
   ]
  },
  {
   "cell_type": "markdown",
   "id": "85bd63f7",
   "metadata": {},
   "source": [
    "2.\tWrite a Python Program to Find Factorial of Number Using Recursion?"
   ]
  },
  {
   "cell_type": "code",
   "execution_count": 3,
   "id": "50faf376",
   "metadata": {},
   "outputs": [
    {
     "name": "stdout",
     "output_type": "stream",
     "text": [
      "Please enter the number here:7\n",
      "The factorial of 7 is 5040\n"
     ]
    }
   ],
   "source": [
    "def recur_fac(n):\n",
    "    if n == 1:\n",
    "        return n\n",
    "    else:\n",
    "        return n*recur_fac(n-1)\n",
    "    \n",
    "num = int(input(\"Please enter the number here:\"))\n",
    "\n",
    "if num < 0:\n",
    "    print(\"Enter positive integer\")\n",
    "elif num == 0:\n",
    "    print(\"The factorial is 1\")\n",
    "else:\n",
    "    print(\"The factorial of\", num, \"is\", recur_fac(num))"
   ]
  },
  {
   "cell_type": "markdown",
   "id": "6e9ff38b",
   "metadata": {},
   "source": [
    "3.\tWrite a Python Program to calculate your Body Mass Index?"
   ]
  },
  {
   "cell_type": "code",
   "execution_count": 19,
   "id": "526c61b3",
   "metadata": {},
   "outputs": [
    {
     "name": "stdout",
     "output_type": "stream",
     "text": [
      "Please enter your height in cm: 178\n",
      "Please enter your weight in kg: 74\n",
      "The BMI is 23 so you are Healthy\n"
     ]
    }
   ],
   "source": [
    "def BMI(weight, height):\n",
    "    bmi = weight/(height/100)**2\n",
    "    return bmi\n",
    "\n",
    "height = float(input(\"Please enter your height in cm: \"))\n",
    "weight = float(input(\"Please enter your weight in kg: \"))\n",
    "bmi = BMI(weight, height)\n",
    "\n",
    "print(\"The BMI is\", round(bmi),\"so\", end=' ')\n",
    "\n",
    "if (bmi < 18):\n",
    "    print(\"you are underweight\")\n",
    "    \n",
    "elif (bmi >= 18 and bmi < 25):\n",
    "    print(\"you are Healthy\")\n",
    "    \n",
    "elif (bmi >= 25 and bim < 30):\n",
    "    print(\"you are overweight\")\n",
    "    \n",
    "elif (bmi >=30):\n",
    "    print(\"you are suffering from obesity\")\n",
    "\n"
   ]
  },
  {
   "cell_type": "markdown",
   "id": "d81fc93a",
   "metadata": {},
   "source": [
    "4.\tWrite a Python Program to calculate the natural logarithm of any number?"
   ]
  },
  {
   "cell_type": "code",
   "execution_count": 33,
   "id": "14a6a730",
   "metadata": {},
   "outputs": [
    {
     "name": "stdout",
     "output_type": "stream",
     "text": [
      "Please enter a number here:100\n",
      "4.615790278395204\n"
     ]
    }
   ],
   "source": [
    "def natural_log(x):\n",
    "    n = 1000.0\n",
    "    return n * ((x ** (1/n)) -1)\n",
    "\n",
    "x = float(input(\"Please enter a number here:\"))\n",
    "\n",
    "print(natural_log(x))"
   ]
  },
  {
   "cell_type": "code",
   "execution_count": 37,
   "id": "4d6c1d4f",
   "metadata": {},
   "outputs": [
    {
     "name": "stdout",
     "output_type": "stream",
     "text": [
      "Please enter a number here:100\n",
      "4.605170185988092\n"
     ]
    }
   ],
   "source": [
    "import math\n",
    "y = float(input(\"Please enter a number here:\"))\n",
    "\n",
    "print (math.log(y))\n",
    "\n"
   ]
  },
  {
   "cell_type": "markdown",
   "id": "a0152156",
   "metadata": {},
   "source": [
    "5.\tWrite a Python Program for cube sum of first n natural numbers?"
   ]
  },
  {
   "cell_type": "code",
   "execution_count": 26,
   "id": "62c67756",
   "metadata": {},
   "outputs": [
    {
     "name": "stdout",
     "output_type": "stream",
     "text": [
      "Please enter a number here: 5\n",
      "The cube sum of the number is:  225\n"
     ]
    }
   ],
   "source": [
    "def cube_sum(n):\n",
    "    c = 0\n",
    "    for i in range (1, n+1):\n",
    "        c += i**3\n",
    "    return c\n",
    "\n",
    "n = int(input(\"Please enter a number here: \"))\n",
    "\n",
    "print(\"The cube sum of the number is: \", cube_sum(n))\n",
    "        \n",
    "        "
   ]
  }
 ],
 "metadata": {
  "kernelspec": {
   "display_name": "Python 3 (ipykernel)",
   "language": "python",
   "name": "python3"
  },
  "language_info": {
   "codemirror_mode": {
    "name": "ipython",
    "version": 3
   },
   "file_extension": ".py",
   "mimetype": "text/x-python",
   "name": "python",
   "nbconvert_exporter": "python",
   "pygments_lexer": "ipython3",
   "version": "3.9.7"
  }
 },
 "nbformat": 4,
 "nbformat_minor": 5
}

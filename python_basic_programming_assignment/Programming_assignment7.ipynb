{
 "cells": [
  {
   "cell_type": "markdown",
   "id": "c10bff05",
   "metadata": {},
   "source": [
    "1.\tWrite a Python Program to find sum of array?"
   ]
  },
  {
   "cell_type": "code",
   "execution_count": 9,
   "id": "65ea1d2d",
   "metadata": {},
   "outputs": [
    {
     "name": "stdout",
     "output_type": "stream",
     "text": [
      "Sum of the array is  34\n"
     ]
    }
   ],
   "source": [
    "def arr_sum(x):\n",
    "    sum = 0\n",
    "    for i in x:\n",
    "        sum = sum+i\n",
    "    return(sum)\n",
    "\n",
    "x = [12, 3, 4, 15]\n",
    "\n",
    "print(\"Sum of the array is \", arr_sum(x))"
   ]
  },
  {
   "cell_type": "markdown",
   "id": "f0ed3d09",
   "metadata": {},
   "source": [
    "2.\tWrite a Python Program to find largest element in an array?"
   ]
  },
  {
   "cell_type": "code",
   "execution_count": 26,
   "id": "7085f193",
   "metadata": {},
   "outputs": [
    {
     "name": "stdout",
     "output_type": "stream",
     "text": [
      "Largest element of array is: 15\n"
     ]
    }
   ],
   "source": [
    "def largest_element(arr):\n",
    "    max = a[0]\n",
    "    for i in range(len(arr)):\n",
    "        if (max < a[i]):\n",
    "            max = a[i]\n",
    "    return max\n",
    "    \n",
    "a =[12, 3, 4, 15]\n",
    "\n",
    "print(\"Largest element of array is:\", largest_element(arr))"
   ]
  },
  {
   "cell_type": "markdown",
   "id": "a314c957",
   "metadata": {},
   "source": [
    "3.\tWrite a Python Program for array rotation?"
   ]
  },
  {
   "cell_type": "code",
   "execution_count": 34,
   "id": "9a997a3f",
   "metadata": {},
   "outputs": [
    {
     "name": "stdout",
     "output_type": "stream",
     "text": [
      "Array after rotation is:  [5, 4, 3, 2, 1, 9, 8, 7, 6]\n"
     ]
    }
   ],
   "source": [
    "def rotate_arr(arr, n, d):\n",
    "    temp = []\n",
    "    i =0\n",
    "    while (i<d):\n",
    "        temp.append(arr[i])\n",
    "        i = i + 1\n",
    "    i= 0\n",
    "    while (d<n):\n",
    "        arr[i] = arr[d]\n",
    "        i = i + 1\n",
    "        d = d + 1\n",
    "    arr[:] = arr[:i] + temp\n",
    "    return arr\n",
    "\n",
    "arr = [9,8,7,6,5,4,3,2,1]\n",
    "print(\"Array after rotation is: \", end=' ')\n",
    "print(rotate_arr(arr, len(arr), 4))"
   ]
  },
  {
   "cell_type": "markdown",
   "id": "85f7c144",
   "metadata": {},
   "source": [
    "4.\tWrite a Python Program to Split the array and add the first part to the end?"
   ]
  },
  {
   "cell_type": "code",
   "execution_count": 39,
   "id": "262835d2",
   "metadata": {},
   "outputs": [
    {
     "name": "stdout",
     "output_type": "stream",
     "text": [
      "3 4 5 6 7 8 9 1 2 "
     ]
    }
   ],
   "source": [
    "def split_arr(arr, n, k):\n",
    "    for i in range (0, k):\n",
    "        x = arr[0]\n",
    "        for j in range(0, n-1):\n",
    "            arr[j] = arr[j + 1]\n",
    "        arr[n-1] = x\n",
    "        \n",
    "arr = [1,2,3,4,5,6,7,8,9]\n",
    "n = len(arr)\n",
    "p = 2\n",
    "\n",
    "split_arr(arr, n, p)\n",
    "for i in range(0,n):\n",
    "    print(arr[i], end=' ')"
   ]
  },
  {
   "cell_type": "markdown",
   "id": "09576c90",
   "metadata": {},
   "source": [
    "5.\tWrite a Python Program to check if given array is Monotonic?"
   ]
  },
  {
   "cell_type": "code",
   "execution_count": 41,
   "id": "a71efb82",
   "metadata": {},
   "outputs": [
    {
     "name": "stdout",
     "output_type": "stream",
     "text": [
      "False\n",
      "True\n"
     ]
    }
   ],
   "source": [
    "def monotonic(x):\n",
    "    n = len(x)\n",
    "    if n ==1:\n",
    "        return True\n",
    "    else:\n",
    "        if all(x[i]>=x[i+1] for i in range(0,n-1) or x[i]<=x[i+1] for i in range(0,n-1)):\n",
    "            return True\n",
    "        else:\n",
    "            return False\n",
    "        \n",
    "x = [4,5,6,7,8]\n",
    "print(monotonic(x))\n",
    "a = [6,5,4,2]\n",
    "print(monotonic(a))"
   ]
  }
 ],
 "metadata": {
  "kernelspec": {
   "display_name": "Python 3 (ipykernel)",
   "language": "python",
   "name": "python3"
  },
  "language_info": {
   "codemirror_mode": {
    "name": "ipython",
    "version": 3
   },
   "file_extension": ".py",
   "mimetype": "text/x-python",
   "name": "python",
   "nbconvert_exporter": "python",
   "pygments_lexer": "ipython3",
   "version": "3.9.7"
  }
 },
 "nbformat": 4,
 "nbformat_minor": 5
}

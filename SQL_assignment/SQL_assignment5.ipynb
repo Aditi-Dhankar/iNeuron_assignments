{
 "cells": [
  {
   "cell_type": "code",
   "execution_count": 1,
   "id": "ae503732",
   "metadata": {},
   "outputs": [],
   "source": [
    "import mysql.connector"
   ]
  },
  {
   "cell_type": "code",
   "execution_count": 2,
   "id": "b0a6b691",
   "metadata": {},
   "outputs": [],
   "source": [
    "from tabulate import tabulate"
   ]
  },
  {
   "cell_type": "code",
   "execution_count": 3,
   "id": "2c811030",
   "metadata": {},
   "outputs": [],
   "source": [
    "conn = mysql.connector.connect(user='root',password='adi@1234',database='assignment')"
   ]
  },
  {
   "cell_type": "code",
   "execution_count": 4,
   "id": "464523e7",
   "metadata": {},
   "outputs": [],
   "source": [
    "cursor = conn.cursor()"
   ]
  },
  {
   "cell_type": "code",
   "execution_count": 5,
   "id": "42dd0cd4",
   "metadata": {},
   "outputs": [],
   "source": [
    "cursor.execute(\"create table worker_dup as select * from workers\")"
   ]
  },
  {
   "cell_type": "code",
   "execution_count": 6,
   "id": "2205cde0",
   "metadata": {},
   "outputs": [],
   "source": [
    "query=\"\"\"insert into assignment.worker_dup(worker_id, First_name, Last_name, Address, Email, Department, Salary, Joining_date)\n",
    "values (9, \"Vipul\", \"Verma\", \"Noida\", \"vipul@gmail.com\", \"IT\", 50000, '22-04-10 09.00.00'),\n",
    "(10, \"Satish\", \"Yadav\", \"Gurugram\", \"satish@gmail.com\",\"Admin\", 40000, '22-01-15 09.00.00')\"\"\"\n",
    "\n",
    "cursor.execute(query)"
   ]
  },
  {
   "cell_type": "code",
   "execution_count": 7,
   "id": "fb44d80a",
   "metadata": {},
   "outputs": [
    {
     "name": "stdout",
     "output_type": "stream",
     "text": [
      "+-------------+-------------+--------------+----------+--------------------+---------+----------+---------------------+\n",
      "|   Worker_id | FirstName   | SecondName   | City     | Email              | Dept    |   Salary | JoiningDate         |\n",
      "|-------------+-------------+--------------+----------+--------------------+---------+----------+---------------------|\n",
      "|           1 | Akash       | Malik        | Delhi    | akash123@gmail.com | HR      |    45000 | 2021-02-20 09:00:00 |\n",
      "|           2 | Aka         | Ma           | Noida    | aka@gmail.com      | Admin   |    30000 | 2021-06-01 09:00:00 |\n",
      "|           3 | Jay         | Singh        | Delhi    | jay@gmail.com      | Admin   |    45000 | 2022-01-15 09:00:00 |\n",
      "|           4 | Ankita      | Jain         | Gurugram | anki@gmail.com     | Account |    40000 | 2022-02-20 09:00:00 |\n",
      "|           5 | Pooja       | Patil        | Delhi    | pooja@gmail.com    | IT      |    40000 | 2022-02-01 09:00:00 |\n",
      "|           6 | Anju        | Tomar        | Noida    | anju@gmail.com     | HR      |    45000 | 2022-04-10 09:00:00 |\n",
      "|           7 | Kaira       | Singh        | Delhi    | kaira@gmail.com    | Account |    30000 | 2022-02-20 09:00:00 |\n",
      "|           9 | Vipul       | Verma        | Noida    | vipul@gmail.com    | IT      |    50000 | 2022-04-10 09:00:00 |\n",
      "|          10 | Satish      | Yadav        | Gurugram | satish@gmail.com   | Admin   |    40000 | 2022-01-15 09:00:00 |\n",
      "+-------------+-------------+--------------+----------+--------------------+---------+----------+---------------------+\n"
     ]
    }
   ],
   "source": [
    "cursor.execute(\"select * from worker_dup\")\n",
    "result = cursor.fetchall()\n",
    "\n",
    "print(tabulate(result,headers=['Worker_id', 'FirstName', 'SecondName', 'City', 'Email', 'Dept', 'Salary', 'JoiningDate'], tablefmt='psql'))"
   ]
  },
  {
   "cell_type": "markdown",
   "id": "292347e4",
   "metadata": {},
   "source": [
    "Q-1. Write an SQL query to print details of workers excluding first names, “Vipul” and “Satish” from Worker table."
   ]
  },
  {
   "cell_type": "code",
   "execution_count": 8,
   "id": "9c72b17b",
   "metadata": {},
   "outputs": [
    {
     "name": "stdout",
     "output_type": "stream",
     "text": [
      "+-------------+-------------+--------------+----------+--------------------+---------+----------+---------------------+\n",
      "|   Worker_id | FirstName   | SecondName   | City     | Email              | Dept    |   Salary | JoiningDate         |\n",
      "|-------------+-------------+--------------+----------+--------------------+---------+----------+---------------------|\n",
      "|           1 | Akash       | Malik        | Delhi    | akash123@gmail.com | HR      |    45000 | 2021-02-20 09:00:00 |\n",
      "|           2 | Aka         | Ma           | Noida    | aka@gmail.com      | Admin   |    30000 | 2021-06-01 09:00:00 |\n",
      "|           3 | Jay         | Singh        | Delhi    | jay@gmail.com      | Admin   |    45000 | 2022-01-15 09:00:00 |\n",
      "|           4 | Ankita      | Jain         | Gurugram | anki@gmail.com     | Account |    40000 | 2022-02-20 09:00:00 |\n",
      "|           5 | Pooja       | Patil        | Delhi    | pooja@gmail.com    | IT      |    40000 | 2022-02-01 09:00:00 |\n",
      "|           6 | Anju        | Tomar        | Noida    | anju@gmail.com     | HR      |    45000 | 2022-04-10 09:00:00 |\n",
      "|           7 | Kaira       | Singh        | Delhi    | kaira@gmail.com    | Account |    30000 | 2022-02-20 09:00:00 |\n",
      "+-------------+-------------+--------------+----------+--------------------+---------+----------+---------------------+\n"
     ]
    }
   ],
   "source": [
    "cursor.execute(\"\"\"select * from worker_dup where First_name not in (\"Vipul\", \"Satish\")\"\"\")\n",
    "result = cursor.fetchall()\n",
    "\n",
    "print(tabulate(result,headers=['Worker_id', 'FirstName', 'SecondName', 'City', 'Email', 'Dept', 'Salary', 'JoiningDate'], tablefmt='psql'))"
   ]
  },
  {
   "cell_type": "markdown",
   "id": "0536fb3e",
   "metadata": {},
   "source": [
    "Q-2. Write an SQL query to print details of the Workers whose FIRST_NAME ends with ‘h’ and contains six alphabets."
   ]
  },
  {
   "cell_type": "code",
   "execution_count": 9,
   "id": "1492e9ff",
   "metadata": {},
   "outputs": [
    {
     "name": "stdout",
     "output_type": "stream",
     "text": [
      "+-------------+-------------+--------------+----------+------------------+--------+----------+---------------------+\n",
      "|   Worker_id | FirstName   | SecondName   | City     | Email            | Dept   |   Salary | JoiningDate         |\n",
      "|-------------+-------------+--------------+----------+------------------+--------+----------+---------------------|\n",
      "|          10 | Satish      | Yadav        | Gurugram | satish@gmail.com | Admin  |    40000 | 2022-01-15 09:00:00 |\n",
      "+-------------+-------------+--------------+----------+------------------+--------+----------+---------------------+\n"
     ]
    }
   ],
   "source": [
    "cursor.execute(\"\"\"select * from worker_dup where First_name like \"_____h\" \"\"\")\n",
    "result = cursor.fetchall()\n",
    "\n",
    "print(tabulate(result,headers=['Worker_id', 'FirstName', 'SecondName', 'City', 'Email', 'Dept', 'Salary', 'JoiningDate'], tablefmt='psql'))"
   ]
  },
  {
   "cell_type": "markdown",
   "id": "875530c8",
   "metadata": {},
   "source": [
    "Q-3. Write a query to validate Email of Employee."
   ]
  },
  {
   "cell_type": "code",
   "execution_count": 10,
   "id": "214da360",
   "metadata": {},
   "outputs": [
    {
     "name": "stdout",
     "output_type": "stream",
     "text": [
      "+-------------+-------------+--------------+----------+--------------------+---------+----------+---------------------+\n",
      "|   Worker_id | FirstName   | SecondName   | City     | Email              | Dept    |   Salary | JoiningDate         |\n",
      "|-------------+-------------+--------------+----------+--------------------+---------+----------+---------------------|\n",
      "|           1 | Akash       | Malik        | Delhi    | akash123@gmail.com | HR      |    45000 | 2021-02-20 09:00:00 |\n",
      "|           2 | Aka         | Ma           | Noida    | aka@gmail.com      | Admin   |    30000 | 2021-06-01 09:00:00 |\n",
      "|           3 | Jay         | Singh        | Delhi    | jay@gmail.com      | Admin   |    45000 | 2022-01-15 09:00:00 |\n",
      "|           4 | Ankita      | Jain         | Gurugram | anki@gmail.com     | Account |    40000 | 2022-02-20 09:00:00 |\n",
      "|           5 | Pooja       | Patil        | Delhi    | pooja@gmail.com    | IT      |    40000 | 2022-02-01 09:00:00 |\n",
      "|           6 | Anju        | Tomar        | Noida    | anju@gmail.com     | HR      |    45000 | 2022-04-10 09:00:00 |\n",
      "|           7 | Kaira       | Singh        | Delhi    | kaira@gmail.com    | Account |    30000 | 2022-02-20 09:00:00 |\n",
      "|           9 | Vipul       | Verma        | Noida    | vipul@gmail.com    | IT      |    50000 | 2022-04-10 09:00:00 |\n",
      "|          10 | Satish      | Yadav        | Gurugram | satish@gmail.com   | Admin   |    40000 | 2022-01-15 09:00:00 |\n",
      "+-------------+-------------+--------------+----------+--------------------+---------+----------+---------------------+\n"
     ]
    }
   ],
   "source": [
    "cursor.execute(\"\"\"select * from worker_dup where email like \"%@%\" \"\"\")\n",
    "result = cursor.fetchall()\n",
    "\n",
    "print(tabulate(result,headers=['Worker_id', 'FirstName', 'SecondName', 'City', 'Email', 'Dept', 'Salary', 'JoiningDate'], tablefmt='psql'))"
   ]
  },
  {
   "cell_type": "code",
   "execution_count": 11,
   "id": "1bb8ded0",
   "metadata": {},
   "outputs": [],
   "source": [
    "cursor.execute(\"drop table worker_dup\")"
   ]
  },
  {
   "cell_type": "code",
   "execution_count": 12,
   "id": "73f1f4f2",
   "metadata": {},
   "outputs": [],
   "source": [
    "cursor.close()\n",
    "conn.close()"
   ]
  }
 ],
 "metadata": {
  "kernelspec": {
   "display_name": "Python 3 (ipykernel)",
   "language": "python",
   "name": "python3"
  },
  "language_info": {
   "codemirror_mode": {
    "name": "ipython",
    "version": 3
   },
   "file_extension": ".py",
   "mimetype": "text/x-python",
   "name": "python",
   "nbconvert_exporter": "python",
   "pygments_lexer": "ipython3",
   "version": "3.9.7"
  }
 },
 "nbformat": 4,
 "nbformat_minor": 5
}
